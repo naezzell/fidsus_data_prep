{
 "cells": [
  {
   "cell_type": "code",
   "execution_count": 1,
   "id": "27d534dc-54f7-49bf-a987-33acb144261e",
   "metadata": {},
   "outputs": [],
   "source": [
    "import numpy as np\n",
    "import matplotlib\n",
    "import matplotlib.pyplot as plt\n",
    "import seaborn as sns\n",
    "import glob\n",
    "import pandas as pd\n",
    "import sys\n",
    "\n",
    "new_colors = ['#1f77b4', '#ff7f0e', '#2ca02c', '#d62728',\n",
    "              '#9467bd', '#8c564b', '#e377c2', '#7f7f7f',\n",
    "              '#bcbd22', '#17becf']\n",
    "plt.rc('text', usetex=True)\n",
    "plt.rc('text.latex', preamble=r\"\\usepackage{amsmath}\\usepackage{amsfonts}\")"
   ]
  },
  {
   "cell_type": "code",
   "execution_count": 2,
   "id": "0e4c476a-2e63-4710-a780-b7f36b2bdaae",
   "metadata": {},
   "outputs": [],
   "source": [
    "ddir = \"../data/prl_rot_curve_data_2024-05-20_15-29-46.csv\"\n",
    "cols = [\"n\", \"lam\", \"beta\", \"H1\", \"H1_std\", \"int1\", \"int1_std\", \"int2\", \"int2_std\", \"int3\", \"int3_std\", \"rng\", \"eps\", \"l\", \"Tsteps\", \"steps\", \"stepsPerMeasurement\", \"sign\", \"sign_std\", \"q\", \"qmax\", \"time\"]\n",
    "df = pd.read_csv(ddir, names=cols, skiprows=1)\n",
    "# add fid sus column\n",
    "df['fidsus'] = df.int3 - (df.beta*df.H1)**2/8\n",
    "exact = np.array([-0.7099133855459768, 6.609155439246638, 16.522888597795358, 4.053481186458256, 2.478553014654032])"
   ]
  },
  {
   "cell_type": "code",
   "execution_count": 3,
   "id": "47d18f78-5feb-416a-b601-0f259ec06855",
   "metadata": {},
   "outputs": [
    {
     "data": {
      "text/html": [
       "<div>\n",
       "<style scoped>\n",
       "    .dataframe tbody tr th:only-of-type {\n",
       "        vertical-align: middle;\n",
       "    }\n",
       "\n",
       "    .dataframe tbody tr th {\n",
       "        vertical-align: top;\n",
       "    }\n",
       "\n",
       "    .dataframe thead th {\n",
       "        text-align: right;\n",
       "    }\n",
       "</style>\n",
       "<table border=\"1\" class=\"dataframe\">\n",
       "  <thead>\n",
       "    <tr style=\"text-align: right;\">\n",
       "      <th></th>\n",
       "      <th>n</th>\n",
       "      <th>lam</th>\n",
       "      <th>beta</th>\n",
       "      <th>H1</th>\n",
       "      <th>H1_std</th>\n",
       "      <th>int1</th>\n",
       "      <th>int1_std</th>\n",
       "      <th>int2</th>\n",
       "      <th>int2_std</th>\n",
       "      <th>int3</th>\n",
       "      <th>...</th>\n",
       "      <th>l</th>\n",
       "      <th>Tsteps</th>\n",
       "      <th>steps</th>\n",
       "      <th>stepsPerMeasurement</th>\n",
       "      <th>sign</th>\n",
       "      <th>sign_std</th>\n",
       "      <th>q</th>\n",
       "      <th>qmax</th>\n",
       "      <th>time</th>\n",
       "      <th>fidsus</th>\n",
       "    </tr>\n",
       "  </thead>\n",
       "  <tbody>\n",
       "    <tr>\n",
       "      <th>0</th>\n",
       "      <td>2</td>\n",
       "      <td>1.0</td>\n",
       "      <td>5.0</td>\n",
       "      <td>-0.708980</td>\n",
       "      <td>0.002874</td>\n",
       "      <td>6.594159</td>\n",
       "      <td>0.027275</td>\n",
       "      <td>16.485358</td>\n",
       "      <td>0.068195</td>\n",
       "      <td>4.043235</td>\n",
       "      <td>...</td>\n",
       "      <td>0</td>\n",
       "      <td>100000</td>\n",
       "      <td>1000000</td>\n",
       "      <td>10</td>\n",
       "      <td>1.00000</td>\n",
       "      <td>0.000000</td>\n",
       "      <td>0.33150</td>\n",
       "      <td>6</td>\n",
       "      <td>1.72</td>\n",
       "      <td>2.472445</td>\n",
       "    </tr>\n",
       "    <tr>\n",
       "      <th>1</th>\n",
       "      <td>100</td>\n",
       "      <td>1.0</td>\n",
       "      <td>5.0</td>\n",
       "      <td>-0.697648</td>\n",
       "      <td>0.010622</td>\n",
       "      <td>6.480267</td>\n",
       "      <td>0.090567</td>\n",
       "      <td>16.200774</td>\n",
       "      <td>0.226416</td>\n",
       "      <td>3.972080</td>\n",
       "      <td>...</td>\n",
       "      <td>121</td>\n",
       "      <td>100000</td>\n",
       "      <td>1000000</td>\n",
       "      <td>10</td>\n",
       "      <td>0.99954</td>\n",
       "      <td>0.000189</td>\n",
       "      <td>0.32407</td>\n",
       "      <td>4</td>\n",
       "      <td>10.05</td>\n",
       "      <td>2.451101</td>\n",
       "    </tr>\n",
       "    <tr>\n",
       "      <th>2</th>\n",
       "      <td>2</td>\n",
       "      <td>1.0</td>\n",
       "      <td>5.0</td>\n",
       "      <td>-0.713380</td>\n",
       "      <td>0.003307</td>\n",
       "      <td>6.632238</td>\n",
       "      <td>0.030233</td>\n",
       "      <td>16.580596</td>\n",
       "      <td>0.075584</td>\n",
       "      <td>4.066240</td>\n",
       "      <td>...</td>\n",
       "      <td>0</td>\n",
       "      <td>100000</td>\n",
       "      <td>1000000</td>\n",
       "      <td>10</td>\n",
       "      <td>1.00000</td>\n",
       "      <td>0.000000</td>\n",
       "      <td>0.33384</td>\n",
       "      <td>6</td>\n",
       "      <td>1.69</td>\n",
       "      <td>2.475893</td>\n",
       "    </tr>\n",
       "    <tr>\n",
       "      <th>3</th>\n",
       "      <td>100</td>\n",
       "      <td>1.0</td>\n",
       "      <td>5.0</td>\n",
       "      <td>-0.713053</td>\n",
       "      <td>0.010472</td>\n",
       "      <td>6.640753</td>\n",
       "      <td>0.097107</td>\n",
       "      <td>16.601781</td>\n",
       "      <td>0.242719</td>\n",
       "      <td>4.073090</td>\n",
       "      <td>...</td>\n",
       "      <td>78</td>\n",
       "      <td>100000</td>\n",
       "      <td>1000000</td>\n",
       "      <td>10</td>\n",
       "      <td>0.99838</td>\n",
       "      <td>0.000287</td>\n",
       "      <td>0.34512</td>\n",
       "      <td>5</td>\n",
       "      <td>28.34</td>\n",
       "      <td>2.484200</td>\n",
       "    </tr>\n",
       "    <tr>\n",
       "      <th>4</th>\n",
       "      <td>2</td>\n",
       "      <td>1.0</td>\n",
       "      <td>5.0</td>\n",
       "      <td>-0.708700</td>\n",
       "      <td>0.003002</td>\n",
       "      <td>6.581497</td>\n",
       "      <td>0.028291</td>\n",
       "      <td>16.453722</td>\n",
       "      <td>0.070729</td>\n",
       "      <td>4.033866</td>\n",
       "      <td>...</td>\n",
       "      <td>0</td>\n",
       "      <td>100000</td>\n",
       "      <td>1000000</td>\n",
       "      <td>10</td>\n",
       "      <td>1.00000</td>\n",
       "      <td>0.000000</td>\n",
       "      <td>0.33708</td>\n",
       "      <td>6</td>\n",
       "      <td>1.72</td>\n",
       "      <td>2.464317</td>\n",
       "    </tr>\n",
       "  </tbody>\n",
       "</table>\n",
       "<p>5 rows × 23 columns</p>\n",
       "</div>"
      ],
      "text/plain": [
       "     n  lam  beta        H1    H1_std      int1  int1_std       int2  \\\n",
       "0    2  1.0   5.0 -0.708980  0.002874  6.594159  0.027275  16.485358   \n",
       "1  100  1.0   5.0 -0.697648  0.010622  6.480267  0.090567  16.200774   \n",
       "2    2  1.0   5.0 -0.713380  0.003307  6.632238  0.030233  16.580596   \n",
       "3  100  1.0   5.0 -0.713053  0.010472  6.640753  0.097107  16.601781   \n",
       "4    2  1.0   5.0 -0.708700  0.003002  6.581497  0.028291  16.453722   \n",
       "\n",
       "   int2_std      int3  ...    l  Tsteps    steps  stepsPerMeasurement  \\\n",
       "0  0.068195  4.043235  ...    0  100000  1000000                   10   \n",
       "1  0.226416  3.972080  ...  121  100000  1000000                   10   \n",
       "2  0.075584  4.066240  ...    0  100000  1000000                   10   \n",
       "3  0.242719  4.073090  ...   78  100000  1000000                   10   \n",
       "4  0.070729  4.033866  ...    0  100000  1000000                   10   \n",
       "\n",
       "      sign  sign_std        q  qmax   time    fidsus  \n",
       "0  1.00000  0.000000  0.33150     6   1.72  2.472445  \n",
       "1  0.99954  0.000189  0.32407     4  10.05  2.451101  \n",
       "2  1.00000  0.000000  0.33384     6   1.69  2.475893  \n",
       "3  0.99838  0.000287  0.34512     5  28.34  2.484200  \n",
       "4  1.00000  0.000000  0.33708     6   1.72  2.464317  \n",
       "\n",
       "[5 rows x 23 columns]"
      ]
     },
     "execution_count": 3,
     "metadata": {},
     "output_type": "execute_result"
    }
   ],
   "source": [
    "df.head()"
   ]
  },
  {
   "cell_type": "code",
   "execution_count": 4,
   "id": "1b735cdd-5c14-4c97-959d-44a20d8c961c",
   "metadata": {},
   "outputs": [],
   "source": [
    "df100 = df[df.n == 100]\n",
    "df2 = df[df.n == 2]"
   ]
  },
  {
   "cell_type": "code",
   "execution_count": 5,
   "id": "80eac7b2-f070-40d3-b038-ab99430ab349",
   "metadata": {},
   "outputs": [
    {
     "data": {
      "text/plain": [
       "[<matplotlib.lines.Line2D at 0x133462030>]"
      ]
     },
     "execution_count": 5,
     "metadata": {},
     "output_type": "execute_result"
    },
    {
     "data": {
      "image/png": "[encoded data removed]",
      "text/plain": [
       "<Figure size 640x480 with 1 Axes>"
      ]
     },
     "metadata": {},
     "output_type": "display_data"
    }
   ],
   "source": [
    "plt.boxplot(df2.fidsus, showmeans=True)\n",
    "plt.plot([0, 1, 2], [exact[-1] for _ in range(3)])"
   ]
  },
  {
   "cell_type": "markdown",
   "id": "bb0acb6e-83de-4486-93ac-e456bf5bda82",
   "metadata": {},
   "source": [
    "## Pick out those instances that agree with each observable"
   ]
  },
  {
   "cell_type": "code",
   "execution_count": 6,
   "id": "9f1c76a7-7e5a-4800-92ad-164e04c9eea3",
   "metadata": {},
   "outputs": [
    {
     "name": "stderr",
     "output_type": "stream",
     "text": [
      "/var/folders/2w/_70fq7w11c36fkhz8pnqp8gw0000gp/T/ipykernel_65596/121899426.py:7: SettingWithCopyWarning: \n",
      "A value is trying to be set on a copy of a slice from a DataFrame.\n",
      "Try using .loc[row_indexer,col_indexer] = value instead\n",
      "\n",
      "See the caveats in the documentation: https://pandas.pydata.org/pandas-docs/stable/user_guide/indexing.html#returning-a-view-versus-a-copy\n",
      "  df100[\"fidsus_pdiff\"] = fidsus_pdiff\n",
      "/var/folders/2w/_70fq7w11c36fkhz8pnqp8gw0000gp/T/ipykernel_65596/121899426.py:9: SettingWithCopyWarning: \n",
      "A value is trying to be set on a copy of a slice from a DataFrame.\n",
      "Try using .loc[row_indexer,col_indexer] = value instead\n",
      "\n",
      "See the caveats in the documentation: https://pandas.pydata.org/pandas-docs/stable/user_guide/indexing.html#returning-a-view-versus-a-copy\n",
      "  df100[\"close\"] = close_cond\n"
     ]
    }
   ],
   "source": [
    "h1_cond = np.abs(df100.H1 - exact[0]) < 2 * df100.H1_std\n",
    "int1_cond = np.abs(df100.int1 - exact[1]) < 2 * df100.int1_std\n",
    "int2_cond = np.abs(df100.int2 - exact[2]) < 2 * df100.int2_std\n",
    "int3_cond = np.abs(df100.int3 - exact[3]) < 2 * df100.int3_std\n",
    "\n",
    "fidsus_pdiff = (np.abs(df100.fidsus - exact[4]) / exact[4]) * 100\n",
    "df100[\"fidsus_pdiff\"] = fidsus_pdiff\n",
    "close_cond = (np.abs(df100.fidsus - exact[4]) / exact[4]) * 100 < 5\n",
    "df100[\"close\"] = close_cond"
   ]
  },
  {
   "cell_type": "code",
   "execution_count": 7,
   "id": "7fe0ef73-15bb-49b3-a0e6-5cd25efe9aeb",
   "metadata": {},
   "outputs": [
    {
     "data": {
      "image/png": "[encoded data removed]",
      "text/plain": [
       "<Figure size 828.904x250 with 3 Axes>"
      ]
     },
     "metadata": {},
     "output_type": "display_data"
    }
   ],
   "source": [
    "g = sns.pairplot(df100, y_vars=\"sign\", x_vars=[\"time\", \"q\", \"fidsus_pdiff\"], hue=\"close\")\n",
    "g.fig.suptitle(r\"Random 100q rotations of PRL model with $\\beta = 5.0, \\lambda = 1.0$\", y=1.08)\n",
    "plt.xscale(\"log\")\n",
    "#plt.savefig(\"prl_rot_close_check_plot.jpg\", bbox_inches=\"tight\")"
   ]
  },
  {
   "cell_type": "code",
   "execution_count": 8,
   "id": "5d7a06af-a872-4081-a019-d18c2f932a5f",
   "metadata": {},
   "outputs": [
    {
     "data": {
      "text/plain": [
       "92"
      ]
     },
     "execution_count": 8,
     "metadata": {},
     "output_type": "execute_result"
    }
   ],
   "source": [
    "sum(close_cond)"
   ]
  },
  {
   "cell_type": "code",
   "execution_count": 9,
   "id": "ea680666-2a6a-408b-bc97-b34cd4a28b94",
   "metadata": {},
   "outputs": [],
   "source": [
    "sign_sort = df100.sort_values(\"sign\", ascending=False)"
   ]
  },
  {
   "cell_type": "code",
   "execution_count": 10,
   "id": "48d660d7-e805-497b-ad4e-e5d3342093ab",
   "metadata": {},
   "outputs": [],
   "source": [
    "signs = np.array(sign_sort.sign)\n",
    "errs = np.array(sign_sort.sign_std)"
   ]
  },
  {
   "cell_type": "markdown",
   "id": "77cb73e0-54ca-4027-9586-160ebb5b5d6b",
   "metadata": {},
   "source": [
    "## Extract random seeds with highest signs"
   ]
  },
  {
   "cell_type": "code",
   "execution_count": 11,
   "id": "936bb149-438d-4406-a42a-62af49fd1d7a",
   "metadata": {},
   "outputs": [
    {
     "data": {
      "text/plain": [
       "array([3026438146, 2781301355, 4206712692, 2270171661, 2834120170,\n",
       "       1370102282, 2172515818,  185933287, 4109413259, 3629902865])"
      ]
     },
     "execution_count": 11,
     "metadata": {},
     "output_type": "execute_result"
    }
   ],
   "source": [
    "best_sign_rng = np.array(sign_sort.rng)[0:10]\n",
    "best_sign_rng"
   ]
  },
  {
   "cell_type": "code",
   "execution_count": 12,
   "id": "d918d417-2595-4412-ab72-477264ccae6b",
   "metadata": {},
   "outputs": [
    {
     "data": {
      "text/plain": [
       "8.739444444444445"
      ]
     },
     "execution_count": 12,
     "metadata": {},
     "output_type": "execute_result"
    }
   ],
   "source": [
    "sum(200 * np.array(sign_sort.time)[0:10]) / (60 * 60)"
   ]
  },
  {
   "cell_type": "code",
   "execution_count": 13,
   "id": "da62ed27-e6e7-41e5-9e54-03dd6a004a69",
   "metadata": {},
   "outputs": [
    {
     "name": "stdout",
     "output_type": "stream",
     "text": [
      "0.999464 0.0008976057040816942\n"
     ]
    }
   ],
   "source": [
    "print(np.mean(signs[0:10]), 2*np.std(signs[0:10]))"
   ]
  },
  {
   "cell_type": "code",
   "execution_count": 14,
   "id": "d07f68b4-15c9-4e23-bef4-f65187177978",
   "metadata": {},
   "outputs": [
    {
     "data": {
      "text/plain": [
       "0.99838"
      ]
     },
     "execution_count": 14,
     "metadata": {},
     "output_type": "execute_result"
    }
   ],
   "source": [
    "min(signs[0:10])"
   ]
  },
  {
   "cell_type": "code",
   "execution_count": 15,
   "id": "a458776d-2b8c-4de6-bb59-5d81d743af54",
   "metadata": {},
   "outputs": [
    {
     "data": {
      "text/plain": [
       "0.99838"
      ]
     },
     "execution_count": 15,
     "metadata": {},
     "output_type": "execute_result"
    }
   ],
   "source": [
    "signs[9]"
   ]
  },
  {
   "cell_type": "code",
   "execution_count": 16,
   "id": "1c181d8e-2ce4-41c6-80d9-6db40570051b",
   "metadata": {},
   "outputs": [
    {
     "data": {
      "text/plain": [
       "0.000573520096"
      ]
     },
     "execution_count": 16,
     "metadata": {},
     "output_type": "execute_result"
    }
   ],
   "source": [
    "2*errs[9]"
   ]
  },
  {
   "cell_type": "code",
   "execution_count": null,
   "id": "c5a29648-a3ad-415e-9648-bee004694ab8",
   "metadata": {},
   "outputs": [],
   "source": []
  }
 ],
 "metadata": {
  "kernelspec": {
   "display_name": "Python 3 (ipykernel)",
   "language": "python",
   "name": "python3"
  },
  "language_info": {
   "codemirror_mode": {
    "name": "ipython",
    "version": 3
   },
   "file_extension": ".py",
   "mimetype": "text/x-python",
   "name": "python",
   "nbconvert_exporter": "python",
   "pygments_lexer": "ipython3",
   "version": "3.12.2"
  }
 },
 "nbformat": 4,
 "nbformat_minor": 5
}
